{
 "cells": [
  {
   "cell_type": "code",
   "execution_count": 1,
   "metadata": {},
   "outputs": [
    {
     "name": "stderr",
     "output_type": "stream",
     "text": [
      "\u001b[32m\u001b[1m  Activating\u001b[22m\u001b[39m project at `d:\\Projects\\Potts-QCD\\potts-model-monte-carlo`\n"
     ]
    }
   ],
   "source": [
    "using Pkg\n",
    "Pkg.activate(\"../\")"
   ]
  },
  {
   "cell_type": "code",
   "execution_count": 178,
   "metadata": {},
   "outputs": [
    {
     "data": {
      "text/plain": [
       "potts_getmagdata_to_txt (generic function with 4 methods)"
      ]
     },
     "metadata": {},
     "output_type": "display_data"
    }
   ],
   "source": [
    "include(\"../src/pottsmc.jl\")"
   ]
  },
  {
   "cell_type": "code",
   "execution_count": 139,
   "metadata": {},
   "outputs": [
    {
     "data": {
      "text/plain": [
       "PottsModel2D{Int64, 10, 3, 2}(10, 3, 2, [0 0 … 0 0; 0 0 … 0 0; … ; 0 0 … 0 0; 0 0 … 0 0], [100, 0, 0], (CartesianIndex(1, 0), CartesianIndex(9, 0), CartesianIndex(0, 1), CartesianIndex(0, 9)))"
      ]
     },
     "metadata": {},
     "output_type": "display_data"
    }
   ],
   "source": [
    "mm = PottsModel2D(10, 3, :cold)\n"
   ]
  },
  {
   "cell_type": "code",
   "execution_count": 140,
   "metadata": {},
   "outputs": [
    {
     "data": {
      "text/plain": [
       "(CartesianIndex(1, 0), CartesianIndex(9, 0), CartesianIndex(0, 1), CartesianIndex(0, 9))"
      ]
     },
     "metadata": {},
     "output_type": "display_data"
    }
   ],
   "source": [
    "mm.shifts"
   ]
  },
  {
   "cell_type": "code",
   "execution_count": 141,
   "metadata": {},
   "outputs": [
    {
     "data": {
      "text/plain": [
       "PottsModel2D{Int64, 10, 3, 2}"
      ]
     },
     "metadata": {},
     "output_type": "display_data"
    }
   ],
   "source": [
    "typeof(mm)"
   ]
  },
  {
   "cell_type": "code",
   "execution_count": 171,
   "metadata": {},
   "outputs": [
    {
     "name": "stdout",
     "output_type": "stream",
     "text": [
      "  0.000031 seconds (6 allocations: 288 bytes)\n"
     ]
    },
    {
     "data": {
      "text/plain": [
       "10×10 Matrix{Int64}:\n",
       " 0  1  1  2  2  0  0  0  0  0\n",
       " 0  1  1  1  0  0  0  0  0  0\n",
       " 1  2  1  1  1  0  0  0  0  0\n",
       " 1  1  1  1  1  1  1  0  0  2\n",
       " 0  1  1  1  1  1  1  1  0  0\n",
       " 0  1  1  0  1  1  1  1  0  0\n",
       " 0  0  2  0  0  1  2  1  0  0\n",
       " 0  0  2  2  2  2  2  2  0  0\n",
       " 2  0  0  1  2  2  2  2  1  1\n",
       " 0  1  2  2  2  2  2  2  2  2"
      ]
     },
     "metadata": {},
     "output_type": "display_data"
    }
   ],
   "source": [
    "stack = LazyStack([0 for i=1:10000])\n",
    "cluster = falses(10, 10)\n",
    "@time wolff_cluster_update!(mm, 1.5; stack=stack, cluster=cluster)\n",
    "mm.lattice"
   ]
  },
  {
   "cell_type": "code",
   "execution_count": 172,
   "metadata": {},
   "outputs": [
    {
     "data": {
      "text/plain": [
       "3-element Vector{Int64}:\n",
       " 40\n",
       " 35\n",
       " 25"
      ]
     },
     "metadata": {},
     "output_type": "display_data"
    }
   ],
   "source": [
    "mm.counts"
   ]
  },
  {
   "cell_type": "code",
   "execution_count": 186,
   "metadata": {},
   "outputs": [
    {
     "data": {
      "text/plain": [
       "10×10 Matrix{Int64}:\n",
       " 1  0  0  0  0  0  0  0  0  1\n",
       " 0  0  0  0  0  0  0  0  0  1\n",
       " 1  0  0  0  0  0  1  0  0  1\n",
       " 0  0  0  0  2  0  0  1  0  0\n",
       " 0  0  0  0  0  0  0  0  0  0\n",
       " 0  0  0  0  0  0  0  0  0  0\n",
       " 0  0  0  0  0  0  0  0  0  0\n",
       " 0  0  0  0  0  0  0  0  0  2\n",
       " 0  0  0  0  0  0  0  0  0  0\n",
       " 0  0  0  0  0  0  0  0  0  0"
      ]
     },
     "metadata": {},
     "output_type": "display_data"
    }
   ],
   "source": [
    "mm = PottsModel2D(10, 3, :cold)\n",
    "metropolis_batch_update!(mm, 1.5)\n",
    "mm.lattice"
   ]
  }
 ],
 "metadata": {
  "kernelspec": {
   "display_name": "Julia 1.7.3",
   "language": "julia",
   "name": "julia-1.7"
  },
  "language_info": {
   "file_extension": ".jl",
   "mimetype": "application/julia",
   "name": "julia",
   "version": "1.7.3"
  },
  "orig_nbformat": 4
 },
 "nbformat": 4,
 "nbformat_minor": 2
}
